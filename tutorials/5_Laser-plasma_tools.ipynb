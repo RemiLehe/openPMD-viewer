{
 "cells": [
  {
   "cell_type": "markdown",
   "metadata": {
    "collapsed": true
   },
   "source": [
    "# Introduction to openPMD-viewer laser-plasma tools\n",
    "\n",
    "In addition to the general methods `get_field` and `get_particle`, openPMD-viewer can also include a set of domain-specific tools. For instance, this notebook describes a set of methods that are useful when analyzing simulations of **laser-plasma acceleration**. \n",
    "\n",
    "If you are not interested in laser-plasma simulations, you can skip this notebook as these methods are only an add-on to openPMD-viewer.\n",
    "\n",
    "## (optional) Preparing this notebook to run it locally\n",
    "\n",
    "If you choose to run this notebook on your local machine, you will need to download the openPMD data files which will then be analysed. To do so, execute the following cell."
   ]
  },
  {
   "cell_type": "code",
   "execution_count": 1,
   "metadata": {},
   "outputs": [],
   "source": [
    "import os\n",
    "\n",
    "def download_if_absent( dataset_name ):\n",
    "    \"Function that downloads and decompress a chosen dataset\"\n",
    "    if os.path.exists( dataset_name ) is False:\n",
    "        import wget, tarfile\n",
    "        tar_name = \"%s.tar.gz\" %dataset_name\n",
    "        url = \"https://github.com/openPMD/openPMD-example-datasets/raw/draft/%s\" %tar_name\n",
    "        wget.download(url, tar_name)\n",
    "        with tarfile.open( tar_name ) as tar_file:\n",
    "            tar_file.extractall()\n",
    "        os.remove( tar_name )\n",
    "\n",
    "download_if_absent( 'example-2d' )"
   ]
  },
  {
   "cell_type": "markdown",
   "metadata": {},
   "source": [
    "In addition, we choose here to incorporate the plots inside the notebook."
   ]
  },
  {
   "cell_type": "code",
   "execution_count": 2,
   "metadata": {},
   "outputs": [],
   "source": [
    "%matplotlib inline"
   ]
  },
  {
   "cell_type": "markdown",
   "metadata": {},
   "source": [
    "## The LpaDiagnostics class\n",
    "\n",
    "To use the laser-plasma acceleration (LPA) tools:\n",
    "- Load the class `LpaDiagnostics` from the module `opmd_viewer.addons`"
   ]
  },
  {
   "cell_type": "code",
   "execution_count": 3,
   "metadata": {},
   "outputs": [],
   "source": [
    "from opmd_viewer.addons import LpaDiagnostics"
   ]
  },
  {
   "cell_type": "markdown",
   "metadata": {},
   "source": [
    "- Create an `LpaDiagnostics` instance in the same way, as you would do for an `OpenPMDTimeSeries`."
   ]
  },
  {
   "cell_type": "code",
   "execution_count": 4,
   "metadata": {},
   "outputs": [],
   "source": [
    "ts_2d = LpaDiagnostics('./example-2d/hdf5/')"
   ]
  },
  {
   "cell_type": "markdown",
   "metadata": {},
   "source": [
    "The `LpaDiagnostics` class inherits from the `OpenPMDTimeSeries` class, and therefore it also has the methods `get_field`, `get_particle` and `slider`. For instance:"
   ]
  },
  {
   "cell_type": "code",
   "execution_count": 5,
   "metadata": {
    "scrolled": false
   },
   "outputs": [
    {
     "data": {
      "application/vnd.jupyter.widget-view+json": {
       "model_id": "f12d46cae59e449dbd8380b8008bd803",
       "version_major": 2,
       "version_minor": 0
      },
      "text/html": [
       "<p>Failed to display Jupyter Widget of type <code>HBox</code>.</p>\n",
       "<p>\n",
       "  If you're reading this message in the Jupyter Notebook or JupyterLab Notebook, it may mean\n",
       "  that the widgets JavaScript is still loading. If this message persists, it\n",
       "  likely means that the widgets JavaScript library is either not installed or\n",
       "  not enabled. See the <a href=\"https://ipywidgets.readthedocs.io/en/stable/user_install.html\">Jupyter\n",
       "  Widgets Documentation</a> for setup instructions.\n",
       "</p>\n",
       "<p>\n",
       "  If you're reading this message in another frontend (for example, a static\n",
       "  rendering on GitHub or <a href=\"https://nbviewer.jupyter.org/\">NBViewer</a>),\n",
       "  it may mean that your frontend doesn't currently support widgets.\n",
       "</p>\n"
      ],
      "text/plain": [
       "HBox(children=(Button(description='-', layout=Layout(width='40px'), style=ButtonStyle()), Button(description='+', layout=Layout(width='40px'), style=ButtonStyle()), IntSlider(value=255, description='iteration', layout=Layout(width='500px'), max=407, min=255, step=7)))"
      ]
     },
     "metadata": {},
     "output_type": "display_data"
    },
    {
     "data": {
      "application/vnd.jupyter.widget-view+json": {
       "model_id": "372359273c9f47258b1bc0a8328bd267",
       "version_major": 2,
       "version_minor": 0
      },
      "text/html": [
       "<p>Failed to display Jupyter Widget of type <code>HBox</code>.</p>\n",
       "<p>\n",
       "  If you're reading this message in the Jupyter Notebook or JupyterLab Notebook, it may mean\n",
       "  that the widgets JavaScript is still loading. If this message persists, it\n",
       "  likely means that the widgets JavaScript library is either not installed or\n",
       "  not enabled. See the <a href=\"https://ipywidgets.readthedocs.io/en/stable/user_install.html\">Jupyter\n",
       "  Widgets Documentation</a> for setup instructions.\n",
       "</p>\n",
       "<p>\n",
       "  If you're reading this message in another frontend (for example, a static\n",
       "  rendering on GitHub or <a href=\"https://nbviewer.jupyter.org/\">NBViewer</a>),\n",
       "  it may mean that your frontend doesn't currently support widgets.\n",
       "</p>\n"
      ],
      "text/plain": [
       "HBox(children=(VBox(children=(Accordion(children=(VBox(children=(ToggleButtons(description='Field:', options=('E', 'rho'), style=ToggleButtonsStyle(button_width='initial'), value='E'), ToggleButtons(description='Coord:', options=('x', 'y', 'z'), style=ToggleButtonsStyle(button_width='initial'), value='x')), layout=Layout(width='330px')), VBox(children=(HBox(children=(HTML(value='<b>Figure:</b>', layout=Layout(width='50px')), IntText(value=0, layout=Layout(width='50px')))), VBox(children=(HBox(children=(HTML(value='<b>Colorbar:</b>'), Select(index=164, layout=Layout(width='200px'), options=('Accent', 'Accent_r', 'Blues', 'Blues_r', 'BrBG', 'BrBG_r', 'BuGn', 'BuGn_r', 'BuPu', 'BuPu_r', 'CMRmap', 'CMRmap_r', 'Dark2', 'Dark2_r', 'GnBu', 'GnBu_r', 'Greens', 'Greens_r', 'Greys', 'Greys_r', 'OrRd', 'OrRd_r', 'Oranges', 'Oranges_r', 'PRGn', 'PRGn_r', 'Paired', 'Paired_r', 'Pastel1', 'Pastel1_r', 'Pastel2', 'Pastel2_r', 'PiYG', 'PiYG_r', 'PuBu', 'PuBuGn', 'PuBuGn_r', 'PuBu_r', 'PuOr', 'PuOr_r', 'PuRd', 'PuRd_r', 'Purples', 'Purples_r', 'RdBu', 'RdBu_r', 'RdGy', 'RdGy_r', 'RdPu', 'RdPu_r', 'RdYlBu', 'RdYlBu_r', 'RdYlGn', 'RdYlGn_r', 'Reds', 'Reds_r', 'Set1', 'Set1_r', 'Set2', 'Set2_r', 'Set3', 'Set3_r', 'Spectral', 'Spectral_r', 'Vega10', 'Vega10_r', 'Vega20', 'Vega20_r', 'Vega20b', 'Vega20b_r', 'Vega20c', 'Vega20c_r', 'Wistia', 'Wistia_r', 'YlGn', 'YlGnBu', 'YlGnBu_r', 'YlGn_r', 'YlOrBr', 'YlOrBr_r', 'YlOrRd', 'YlOrRd_r', 'afmhot', 'afmhot_r', 'autumn', 'autumn_r', 'binary', 'binary_r', 'bone', 'bone_r', 'brg', 'brg_r', 'bwr', 'bwr_r', 'cool', 'cool_r', 'coolwarm', 'coolwarm_r', 'copper', 'copper_r', 'cubehelix', 'cubehelix_r', 'flag', 'flag_r', 'gist_earth', 'gist_earth_r', 'gist_gray', 'gist_gray_r', 'gist_heat', 'gist_heat_r', 'gist_ncar', 'gist_ncar_r', 'gist_rainbow', 'gist_rainbow_r', 'gist_stern', 'gist_stern_r', 'gist_yarg', 'gist_yarg_r', 'gnuplot', 'gnuplot2', 'gnuplot2_r', 'gnuplot_r', 'gray', 'gray_r', 'hot', 'hot_r', 'hsv', 'hsv_r', 'inferno', 'inferno_r', 'jet', 'jet_r', 'magma', 'magma_r', 'nipy_spectral', 'nipy_spectral_r', 'ocean', 'ocean_r', 'pink', 'pink_r', 'plasma', 'plasma_r', 'prism', 'prism_r', 'rainbow', 'rainbow_r', 'seismic', 'seismic_r', 'spectral', 'spectral_r', 'spring', 'spring_r', 'summer', 'summer_r', 'tab10', 'tab10_r', 'tab20', 'tab20_r', 'tab20b', 'tab20b_r', 'tab20c', 'tab20c_r', 'terrain', 'terrain_r', 'viridis', 'viridis_r', 'winter', 'winter_r'), value='viridis'))), HBox(children=(Checkbox(value=False, indent=False, layout=Layout(width='20px')), HBox(children=(HTML(value='from', layout=Layout(width='30px')), FloatText(value=-5.0, layout=Layout(width='60px')))), HBox(children=(HTML(value='to', layout=Layout(width='20px')), FloatText(value=5.0, layout=Layout(width='60px')))), HBox(children=(HTML(value='x 10^', layout=Layout(width='45px')), FloatText(value=9.0, layout=Layout(width='45px'))))))), layout=Layout(width='310px')), VBox(children=(HTML(value='<b>Vertical axis:</b>'), HBox(children=(Checkbox(value=False, indent=False, layout=Layout(width='20px')), HBox(children=(HTML(value='from', layout=Layout(width='30px')), FloatText(value=-10.0, layout=Layout(width='60px')))), HBox(children=(HTML(value='to', layout=Layout(width='20px')), FloatText(value=10.0, layout=Layout(width='60px'))))), layout=Layout(width='310px')))), VBox(children=(HTML(value='<b>Horizontal axis:</b>'), HBox(children=(Checkbox(value=False, indent=False, layout=Layout(width='20px')), HBox(children=(HTML(value='from', layout=Layout(width='30px')), FloatText(value=-10.0, layout=Layout(width='60px')))), HBox(children=(HTML(value='to', layout=Layout(width='20px')), FloatText(value=10.0, layout=Layout(width='60px'))))), layout=Layout(width='310px'))))), layout=Layout(width='330px'))), _titles={'0': 'Field type', '1': 'Plotting options'}), HBox(children=(ToggleButton(value=True, description='Always refresh'), Button(description='Refresh now!', style=ButtonStyle())))), layout=Layout(width='370px')), VBox(children=(Accordion(children=(VBox(children=(Dropdown(layout=Layout(width='250px'), options=('Hydrogen1+', 'electrons'), value='Hydrogen1+'), ToggleButtons(options=('x', 'y', 'z', 'ux', 'uy', 'uz', 'w'), style=ToggleButtonsStyle(button_width='initial'), value='x'), ToggleButtons(index=7, options=('x', 'y', 'z', 'ux', 'uy', 'uz', 'w', 'None'), style=ToggleButtonsStyle(button_width='initial'), value='None')), layout=Layout(width='310px')), VBox(children=(HBox(children=(Checkbox(value=False, indent=False, layout=Layout(width='20px')), Dropdown(description='Select ', options=('x', 'y', 'z', 'ux', 'uy', 'uz', 'w'), value='x'))), HBox(children=(HBox(children=(HTML(value='from', layout=Layout(width='30px')), FloatText(value=-0.1, layout=Layout(width='90px')))), HBox(children=(HTML(value='to', layout=Layout(width='20px')), FloatText(value=0.1, layout=Layout(width='90px')))))), HBox(children=(Checkbox(value=False, indent=False, layout=Layout(width='20px')), Dropdown(description='Select ', options=('x', 'y', 'z', 'ux', 'uy', 'uz', 'w'), value='x'))), HBox(children=(HBox(children=(HTML(value='from', layout=Layout(width='30px')), FloatText(value=-0.1, layout=Layout(width='90px')))), HBox(children=(HTML(value='to', layout=Layout(width='20px')), FloatText(value=0.1, layout=Layout(width='90px')))))), HBox(children=(Checkbox(value=False, indent=False, layout=Layout(width='20px')), Dropdown(description='Select ', options=('x', 'y', 'z', 'ux', 'uy', 'uz', 'w'), value='x'))), HBox(children=(HBox(children=(HTML(value='from', layout=Layout(width='30px')), FloatText(value=-0.1, layout=Layout(width='90px')))), HBox(children=(HTML(value='to', layout=Layout(width='20px')), FloatText(value=0.1, layout=Layout(width='90px'))))))), layout=Layout(width='310px')), VBox(children=(HBox(children=(HBox(children=(HTML(value='<b>Figure:</b>', layout=Layout(width='50px')), IntText(value=1, layout=Layout(width='50px')))), HBox(children=(HTML(value='Bins:', layout=Layout(width='50px')), IntText(value=100, layout=Layout(width='60px')))))), VBox(children=(HBox(children=(HTML(value='<b>Colorbar:</b>'), Select(index=2, layout=Layout(width='200px'), options=('Accent', 'Accent_r', 'Blues', 'Blues_r', 'BrBG', 'BrBG_r', 'BuGn', 'BuGn_r', 'BuPu', 'BuPu_r', 'CMRmap', 'CMRmap_r', 'Dark2', 'Dark2_r', 'GnBu', 'GnBu_r', 'Greens', 'Greens_r', 'Greys', 'Greys_r', 'OrRd', 'OrRd_r', 'Oranges', 'Oranges_r', 'PRGn', 'PRGn_r', 'Paired', 'Paired_r', 'Pastel1', 'Pastel1_r', 'Pastel2', 'Pastel2_r', 'PiYG', 'PiYG_r', 'PuBu', 'PuBuGn', 'PuBuGn_r', 'PuBu_r', 'PuOr', 'PuOr_r', 'PuRd', 'PuRd_r', 'Purples', 'Purples_r', 'RdBu', 'RdBu_r', 'RdGy', 'RdGy_r', 'RdPu', 'RdPu_r', 'RdYlBu', 'RdYlBu_r', 'RdYlGn', 'RdYlGn_r', 'Reds', 'Reds_r', 'Set1', 'Set1_r', 'Set2', 'Set2_r', 'Set3', 'Set3_r', 'Spectral', 'Spectral_r', 'Vega10', 'Vega10_r', 'Vega20', 'Vega20_r', 'Vega20b', 'Vega20b_r', 'Vega20c', 'Vega20c_r', 'Wistia', 'Wistia_r', 'YlGn', 'YlGnBu', 'YlGnBu_r', 'YlGn_r', 'YlOrBr', 'YlOrBr_r', 'YlOrRd', 'YlOrRd_r', 'afmhot', 'afmhot_r', 'autumn', 'autumn_r', 'binary', 'binary_r', 'bone', 'bone_r', 'brg', 'brg_r', 'bwr', 'bwr_r', 'cool', 'cool_r', 'coolwarm', 'coolwarm_r', 'copper', 'copper_r', 'cubehelix', 'cubehelix_r', 'flag', 'flag_r', 'gist_earth', 'gist_earth_r', 'gist_gray', 'gist_gray_r', 'gist_heat', 'gist_heat_r', 'gist_ncar', 'gist_ncar_r', 'gist_rainbow', 'gist_rainbow_r', 'gist_stern', 'gist_stern_r', 'gist_yarg', 'gist_yarg_r', 'gnuplot', 'gnuplot2', 'gnuplot2_r', 'gnuplot_r', 'gray', 'gray_r', 'hot', 'hot_r', 'hsv', 'hsv_r', 'inferno', 'inferno_r', 'jet', 'jet_r', 'magma', 'magma_r', 'nipy_spectral', 'nipy_spectral_r', 'ocean', 'ocean_r', 'pink', 'pink_r', 'plasma', 'plasma_r', 'prism', 'prism_r', 'rainbow', 'rainbow_r', 'seismic', 'seismic_r', 'spectral', 'spectral_r', 'spring', 'spring_r', 'summer', 'summer_r', 'tab10', 'tab10_r', 'tab20', 'tab20_r', 'tab20b', 'tab20b_r', 'tab20c', 'tab20c_r', 'terrain', 'terrain_r', 'viridis', 'viridis_r', 'winter', 'winter_r'), value='Blues'))), HBox(children=(Checkbox(value=False, indent=False, layout=Layout(width='20px')), HBox(children=(HTML(value='from', layout=Layout(width='30px')), FloatText(value=-5.0, layout=Layout(width='60px')))), HBox(children=(HTML(value='to', layout=Layout(width='20px')), FloatText(value=5.0, layout=Layout(width='60px')))), HBox(children=(HTML(value='x 10^', layout=Layout(width='45px')), FloatText(value=9.0, layout=Layout(width='45px'))))))), layout=Layout(width='310px')), VBox(children=(HTML(value='<b>Vertical axis:</b>'), HBox(children=(Checkbox(value=False, indent=False, layout=Layout(width='20px')), HBox(children=(HTML(value='from', layout=Layout(width='30px')), FloatText(value=-10.0, layout=Layout(width='60px')))), HBox(children=(HTML(value='to', layout=Layout(width='20px')), FloatText(value=10.0, layout=Layout(width='60px'))))), layout=Layout(width='310px')))), VBox(children=(HTML(value='<b>Horizontal axis:</b>'), HBox(children=(Checkbox(value=False, indent=False, layout=Layout(width='20px')), HBox(children=(HTML(value='from', layout=Layout(width='30px')), FloatText(value=-10.0, layout=Layout(width='60px')))), HBox(children=(HTML(value='to', layout=Layout(width='20px')), FloatText(value=10.0, layout=Layout(width='60px'))))), layout=Layout(width='310px')))), ToggleButton(value=True, description=' Use field mesh')), layout=Layout(width='310px'))), _titles={'0': 'Particle quantities', '1': 'Particle selection', '2': 'Plotting options'}), HBox(children=(ToggleButton(value=True, description='Always refresh'), Button(description='Refresh now!', style=ButtonStyle())))), layout=Layout(width='370px'))))"
      ]
     },
     "metadata": {},
     "output_type": "display_data"
    }
   ],
   "source": [
    "ts_2d.slider()"
   ]
  },
  {
   "cell_type": "markdown",
   "metadata": {},
   "source": [
    "This will call an interactive panel, as in the case of an `OpenPMDTimeSeries` object\n",
    "![GUI_representation](./img/GUI_image_2d.png)"
   ]
  },
  {
   "cell_type": "markdown",
   "metadata": {},
   "source": [
    "## Diagnostic methods\n",
    "\n",
    "In addition to the methods `get_particle`, `get_field` and `slider`, the `LpaDiagnotics` class has an extra set of specialized methods.\n",
    "\n",
    "These diagnostic methods are currently only implemented for API-like usage. In particular, either the time or iteration have to be specified when calling a method, by setting the `t` or `iteration` parameter. "
   ]
  },
  {
   "cell_type": "markdown",
   "metadata": {},
   "source": [
    "### Particle diagnostics\n",
    "\n",
    "For methods involving particle data, the desired particle species also needs to be specified with the `species` parameter. Optionally, these methods can be applied to only a subset of the particles, by using the `select` parameter.\n",
    "\n",
    "For instance, `select={'uz' : [-1, 2]}` will select only the particles which have a longitudinal normalized momentum between `-1` and `2`. \n",
    "\n",
    "In the following the available particle diagnostic methods will be explained.\n",
    "\n",
    "For more information a method's documentation can be called with:"
   ]
  },
  {
   "cell_type": "code",
   "execution_count": 6,
   "metadata": {},
   "outputs": [],
   "source": [
    "ts_2d.get_mean_gamma?"
   ]
  },
  {
   "cell_type": "markdown",
   "metadata": {},
   "source": [
    "#### Mean gamma\n",
    "To calculate the mean energy and standard deviation of the selected particles `get_mean_gamma` can be used. In the example below, only the particles with $u_z > 0.05$ are selected."
   ]
  },
  {
   "cell_type": "code",
   "execution_count": 7,
   "metadata": {},
   "outputs": [
    {
     "data": {
      "text/plain": [
       "(1.0665548693800455, 0.10151101005407513)"
      ]
     },
     "execution_count": 7,
     "metadata": {},
     "output_type": "execute_result"
    }
   ],
   "source": [
    "ts_2d.get_mean_gamma(iteration=300, species='electrons', select={'uz' : [0.05, None]})"
   ]
  },
  {
   "cell_type": "markdown",
   "metadata": {},
   "source": [
    "#### Charge\n",
    "`get_charge` calculates the charge of the given particle selection in Coulomb."
   ]
  },
  {
   "cell_type": "code",
   "execution_count": 8,
   "metadata": {},
   "outputs": [
    {
     "data": {
      "text/plain": [
       "-0.0023057475697829941"
      ]
     },
     "execution_count": 8,
     "metadata": {},
     "output_type": "execute_result"
    }
   ],
   "source": [
    "ts_2d.get_charge(iteration=300, species='electrons')"
   ]
  },
  {
   "cell_type": "markdown",
   "metadata": {},
   "source": [
    "#### Divergence\n",
    "This method calculates the divergence of the selected particles, using $\\langle \\arctan{u_{x/y}/u_z} \\rangle$"
   ]
  },
  {
   "cell_type": "code",
   "execution_count": 9,
   "metadata": {},
   "outputs": [
    {
     "data": {
      "text/plain": [
       "(1.3080546184771431, 1.5751303670998404)"
      ]
     },
     "execution_count": 9,
     "metadata": {},
     "output_type": "execute_result"
    }
   ],
   "source": [
    "ts_2d.get_divergence(iteration=300, species='electrons')"
   ]
  },
  {
   "cell_type": "markdown",
   "metadata": {},
   "source": [
    "#### Emittance\n",
    "This method can be used to calculate the normalized emittance in the x and y plane for selected particles by evaluating\n",
    "$$\\epsilon_{n,rms}=\\sqrt{\\langle x^2 \\rangle \\langle u_x^2 \\rangle - \\langle x u_x \\rangle^2}$$"
   ]
  },
  {
   "cell_type": "code",
   "execution_count": 10,
   "metadata": {},
   "outputs": [
    {
     "data": {
      "text/plain": [
       "(1.1078612528297555e-07, 1.6065235739504965e-09)"
      ]
     },
     "execution_count": 10,
     "metadata": {},
     "output_type": "execute_result"
    }
   ],
   "source": [
    "ts_2d.get_emittance(iteration=300, species='electrons')"
   ]
  },
  {
   "cell_type": "markdown",
   "metadata": {},
   "source": [
    "#### Current\n",
    "`get_current` can be used to calculate the instantaneous current along the z_axis generated by the selected particles. When setting `plot=True` the resulting current profile is directly plotted. Otherwise an array with the data is returned."
   ]
  },
  {
   "cell_type": "code",
   "execution_count": 11,
   "metadata": {},
   "outputs": [
    {
     "data": {
      "image/png": "[encoded data removed]",
      "text/plain": [
       "<matplotlib.figure.Figure at 0x150bb737f0>"
      ]
     },
     "metadata": {},
     "output_type": "display_data"
    }
   ],
   "source": [
    "ts_2d.get_current(iteration=300, species='electrons', plot=True);"
   ]
  },
  {
   "cell_type": "markdown",
   "metadata": {},
   "source": [
    "### Laser diagnostic\n",
    "The laser diagnostic methods require the user to specify the plane of laser polarisation by setting the argument `pol=` to either `'x'` or `'y'`"
   ]
  },
  {
   "cell_type": "markdown",
   "metadata": {},
   "source": [
    "#### Laser envelope\n",
    "\n",
    "This method calculates the envelope of a given laser field. This can be done for a 1D slice of the field or for an entire 2D plane. The resulting data is returned in form of a 1D or 2D array, respectively."
   ]
  },
  {
   "cell_type": "code",
   "execution_count": 12,
   "metadata": {},
   "outputs": [],
   "source": [
    "ts_2d.get_laser_envelope(iteration=300, pol='y');"
   ]
  },
  {
   "cell_type": "markdown",
   "metadata": {},
   "source": [
    "#### Spectrum\n",
    "This function helps to easily calculate (and plot) the spectrum of a given laser field."
   ]
  },
  {
   "cell_type": "code",
   "execution_count": 13,
   "metadata": {},
   "outputs": [
    {
     "data": {
      "image/png": "[encoded data removed]",
      "text/plain": [
       "<matplotlib.figure.Figure at 0x1514bac160>"
      ]
     },
     "metadata": {},
     "output_type": "display_data"
    }
   ],
   "source": [
    "ts_2d.get_spectrum(iteration=300, pol='y', plot=True);"
   ]
  },
  {
   "cell_type": "markdown",
   "metadata": {},
   "source": [
    "#### Spectrogram\n",
    "This method does a time-frequency analysis of the laser, by applying the FROG method.\n",
    "\n",
    "Mathematically:\n",
    "        $$ s(\\omega, \\tau) = \\left| \\int_{-\\infty}^{\\infty} E(t) |E(t-\\tau)|^2\n",
    "            \\exp( -i\\omega t) dt \\right|^2 $$\n",
    "            \n",
    "(Additional matplotlib arguments for the plotting option can directly be passed to the function, e.g `cmap='coolwarm'`\n",
    ")"
   ]
  },
  {
   "cell_type": "code",
   "execution_count": 14,
   "metadata": {},
   "outputs": [
    {
     "data": {
      "image/png": "[encoded data removed]",
      "text/plain": [
       "<matplotlib.figure.Figure at 0x1514cf4470>"
      ]
     },
     "metadata": {},
     "output_type": "display_data"
    }
   ],
   "source": [
    "ts_2d.get_spectrogram(iteration=300, pol='y', plot=True, cmap='YlGnBu_r');"
   ]
  },
  {
   "cell_type": "markdown",
   "metadata": {},
   "source": [
    "#### Main frequency\n",
    "To calculate the main frequency (i.e. maximum of the spectrum) call. This returns the frequency in $rad.s^{-1}$."
   ]
  },
  {
   "cell_type": "code",
   "execution_count": 15,
   "metadata": {},
   "outputs": [
    {
     "data": {
      "text/plain": [
       "2354564459136067.0"
      ]
     },
     "execution_count": 15,
     "metadata": {},
     "output_type": "execute_result"
    }
   ],
   "source": [
    "ts_2d.get_main_frequency(iteration=300, pol='y')"
   ]
  },
  {
   "cell_type": "markdown",
   "metadata": {},
   "source": [
    "#### Laser $a_0$\n",
    "A method to calculate the laser strenght a0 as given by $$a0 = E_{max} e / (m_e c \\omega)$$"
   ]
  },
  {
   "cell_type": "code",
   "execution_count": 16,
   "metadata": {},
   "outputs": [
    {
     "data": {
      "text/plain": [
       "1.0542688340645183"
      ]
     },
     "execution_count": 16,
     "metadata": {},
     "output_type": "execute_result"
    }
   ],
   "source": [
    "ts_2d.get_a0(iteration=300, pol='y')"
   ]
  },
  {
   "cell_type": "markdown",
   "metadata": {},
   "source": [
    "#### Laser waist\n",
    "\n",
    "Calculate the waist of a (gaussian) laser pulse (i.e. $\\sqrt{2} \\sigma_r$, where $\\sigma_r$ is the transverse RMS of the field)."
   ]
  },
  {
   "cell_type": "code",
   "execution_count": 17,
   "metadata": {},
   "outputs": [
    {
     "name": "stderr",
     "output_type": "stream",
     "text": [
      "/Users/rlehe/miniconda3/lib/python3.6/site-packages/scipy/optimize/minpack.py:785: OptimizeWarning: Covariance of the parameters could not be estimated\n",
      "  category=OptimizeWarning)\n"
     ]
    },
    {
     "data": {
      "text/plain": [
       "4.1474107457732672e-06"
      ]
     },
     "execution_count": 17,
     "metadata": {},
     "output_type": "execute_result"
    }
   ],
   "source": [
    "ts_2d.get_laser_waist(iteration=300, pol='y')"
   ]
  },
  {
   "cell_type": "markdown",
   "metadata": {},
   "source": [
    "#### Pulse length\n",
    "Calculate the length of a (gaussian) laser pulse. Here 'length' means the 'longitudinal waist' (i.e $\\sqrt{2} \\sigma_z$ where $\\sigma_z$ is the longitudinal RMS of the field).\n"
   ]
  },
  {
   "cell_type": "code",
   "execution_count": 18,
   "metadata": {},
   "outputs": [
    {
     "data": {
      "text/plain": [
       "2.9493466667473121e-06"
      ]
     },
     "execution_count": 18,
     "metadata": {},
     "output_type": "execute_result"
    }
   ],
   "source": [
    "ts_2d.get_ctau(iteration=300, pol='y')"
   ]
  }
 ],
 "metadata": {
  "anaconda-cloud": {},
  "kernelspec": {
   "display_name": "Python 3",
   "language": "python",
   "name": "python3"
  },
  "language_info": {
   "codemirror_mode": {
    "name": "ipython",
    "version": 3
   },
   "file_extension": ".py",
   "mimetype": "text/x-python",
   "name": "python",
   "nbconvert_exporter": "python",
   "pygments_lexer": "ipython3",
   "version": "3.6.3"
  },
  "widgets": {
   "state": {
    "7f2b0c4c82444cb881753f9785f81e6c": {
     "views": [
      {
       "cell_index": 9
      }
     ]
    },
    "8c3f18cf657d48afaffabcf9950a8d20": {
     "views": [
      {
       "cell_index": 9
      }
     ]
    },
    "b0a0574bc9c34b10a7c2c58f30a7ab78": {
     "views": [
      {
       "cell_index": 9
      }
     ]
    },
    "dcbbddf44d6742b7bf3ccfe452fa56aa": {
     "views": [
      {
       "cell_index": 9
      }
     ]
    }
   },
   "version": "1.2.0"
  }
 },
 "nbformat": 4,
 "nbformat_minor": 1
}
